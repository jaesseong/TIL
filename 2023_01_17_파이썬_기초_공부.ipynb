{
  "nbformat": 4,
  "nbformat_minor": 0,
  "metadata": {
    "colab": {
      "provenance": [],
      "authorship_tag": "ABX9TyNfKXqZHhFAh18XlsaPnQvF"
    },
    "kernelspec": {
      "name": "python3",
      "display_name": "Python 3"
    },
    "language_info": {
      "name": "python"
    }
  },
  "cells": [
    {
      "cell_type": "markdown",
      "source": [
        "# 변수"
      ],
      "metadata": {
        "id": "1R80xlnyCjZg"
      }
    },
    {
      "cell_type": "markdown",
      "source": [
        "> String"
      ],
      "metadata": {
        "id": "uEh-ZhO_CuAh"
      }
    },
    {
      "cell_type": "code",
      "source": [
        "print(\"'Hello, World'\")\n",
        "print('\"Hello, World\"')"
      ],
      "metadata": {
        "colab": {
          "base_uri": "https://localhost:8080/"
        },
        "id": "H7yVDVGeCw0v",
        "outputId": "6981406b-f94b-42af-ca15-c26c4482c4d7"
      },
      "execution_count": null,
      "outputs": [
        {
          "output_type": "stream",
          "name": "stdout",
          "text": [
            "'Hello, World'\n",
            "\"Hello, World\"\n"
          ]
        }
      ]
    },
    {
      "cell_type": "code",
      "source": [
        "str1=\"Hello\"\n",
        "str2=\"World\"\n",
        "\n",
        "print('str1+str2=', str1 + str2)"
      ],
      "metadata": {
        "colab": {
          "base_uri": "https://localhost:8080/"
        },
        "id": "7q8yixHbC5w2",
        "outputId": "053c1737-1779-41d7-eba7-9739eca1bddd"
      },
      "execution_count": null,
      "outputs": [
        {
          "output_type": "stream",
          "name": "stdout",
          "text": [
            "str1+str2= HelloWorld\n"
          ]
        }
      ]
    },
    {
      "cell_type": "code",
      "source": [
        "greet = str1 + str2\n",
        "print(\"greet*3=\", greet*3)"
      ],
      "metadata": {
        "colab": {
          "base_uri": "https://localhost:8080/"
        },
        "id": "Ll37MyBbDIpc",
        "outputId": "b6fcf3e5-a59d-472b-9f44-3061dd78ca47"
      },
      "execution_count": null,
      "outputs": [
        {
          "output_type": "stream",
          "name": "stdout",
          "text": [
            "greet*3= HelloWorldHelloWorldHelloWorld\n"
          ]
        }
      ]
    },
    {
      "cell_type": "markdown",
      "source": [
        "> 문자열 인덱싱과 슬라이싱\n"
      ],
      "metadata": {
        "id": "C4KBG4YfD21A"
      }
    },
    {
      "cell_type": "code",
      "source": [
        "greeting = \"Hello Kaggle\"\n",
        "print(greeting[6])"
      ],
      "metadata": {
        "colab": {
          "base_uri": "https://localhost:8080/"
        },
        "id": "nruQYIYVDfcn",
        "outputId": "1acf732c-3e98-43e2-853d-1e70e8905de8"
      },
      "execution_count": null,
      "outputs": [
        {
          "output_type": "stream",
          "name": "stdout",
          "text": [
            "K\n"
          ]
        }
      ]
    },
    {
      "cell_type": "code",
      "source": [
        "print(greeting[:])\n",
        "# Hello Kaggle\n",
        "\n",
        "print(greeting[:6])\n",
        "# Hello \n",
        "\n",
        "print(greeting[6:])\n",
        "# Kaggle\n",
        "\n",
        "print(greeting[3:8])\n",
        "# lo Ka\n",
        "\n",
        "print(greeting[0:9:2])\n",
        "# HloKg"
      ],
      "metadata": {
        "colab": {
          "base_uri": "https://localhost:8080/"
        },
        "id": "fwBi3744DsoX",
        "outputId": "2ce9e010-f256-47e1-bf4c-a5051d5181bc"
      },
      "execution_count": null,
      "outputs": [
        {
          "output_type": "stream",
          "name": "stdout",
          "text": [
            "Hello Kaggle\n",
            "Hello \n",
            "Kaggle\n",
            "lo Ka\n",
            "HloKg\n"
          ]
        }
      ]
    },
    {
      "cell_type": "markdown",
      "source": [
        "> List"
      ],
      "metadata": {
        "id": "-4D3puSBJhIN"
      }
    },
    {
      "cell_type": "code",
      "source": [
        "a = []\n",
        "a_func = list()\n",
        "b = [1]\n",
        "c = ['apple']\n",
        "d = [1, 2, ['apple']]\n",
        "\n",
        "print(a)\n",
        "print(a_func)\n",
        "print(b)\n",
        "print(c)\n",
        "print(d)"
      ],
      "metadata": {
        "colab": {
          "base_uri": "https://localhost:8080/"
        },
        "id": "SmprWtr2EtZL",
        "outputId": "83ade5b3-a458-4348-d65f-427489f4575f"
      },
      "execution_count": null,
      "outputs": [
        {
          "output_type": "stream",
          "name": "stdout",
          "text": [
            "[]\n",
            "[]\n",
            "[1]\n",
            "['apple']\n",
            "[1, 2, ['apple']]\n"
          ]
        }
      ]
    },
    {
      "cell_type": "code",
      "source": [
        "a = [1, 2, 3]\n",
        "print(a[0])\n",
        "print(a[-1])"
      ],
      "metadata": {
        "colab": {
          "base_uri": "https://localhost:8080/"
        },
        "id": "oRm_fyVKIBro",
        "outputId": "96875fea-42ca-44cb-df6d-2ece46f500c3"
      },
      "execution_count": null,
      "outputs": [
        {
          "output_type": "stream",
          "name": "stdout",
          "text": [
            "1\n",
            "3\n"
          ]
        }
      ]
    },
    {
      "cell_type": "code",
      "source": [
        "a = [['apple', 'banana', 'cherry']]\n",
        "\n",
        "print(a[0])"
      ],
      "metadata": {
        "colab": {
          "base_uri": "https://localhost:8080/"
        },
        "id": "9LoiIOO_IJJn",
        "outputId": "6ff9a84a-8519-4a60-ab7e-0a8b8c773c8f"
      },
      "execution_count": null,
      "outputs": [
        {
          "output_type": "stream",
          "name": "stdout",
          "text": [
            "['apple', 'banana', 'cherry']\n"
          ]
        }
      ]
    },
    {
      "cell_type": "code",
      "source": [
        "print(a[0][0])\n",
        "print(a[0][1])"
      ],
      "metadata": {
        "colab": {
          "base_uri": "https://localhost:8080/"
        },
        "id": "Nhlz9McUIgTk",
        "outputId": "5398c1ec-eb03-41e2-e26b-fe4c60fc1738"
      },
      "execution_count": null,
      "outputs": [
        {
          "output_type": "stream",
          "name": "stdout",
          "text": [
            "apple\n",
            "banana\n"
          ]
        }
      ]
    },
    {
      "cell_type": "code",
      "source": [
        "print(a[0][0][3])"
      ],
      "metadata": {
        "colab": {
          "base_uri": "https://localhost:8080/"
        },
        "id": "ulQgKrIXIpqY",
        "outputId": "7be0bbaf-d707-4525-dda2-63472482cbe5"
      },
      "execution_count": null,
      "outputs": [
        {
          "output_type": "stream",
          "name": "stdout",
          "text": [
            "l\n"
          ]
        }
      ]
    },
    {
      "cell_type": "code",
      "source": [
        "a=[1,2,3,4,5,6,7,8,9,10]\n",
        "\n",
        "print('a[:4]', a[:4])\n",
        "print('a[1:4]', a[1:4])\n",
        "print('a[0:7:2]', a[0:7:2])\n",
        "print('a[::-1]', a[::-1])\n",
        "print('a[::2]', a[::2])"
      ],
      "metadata": {
        "colab": {
          "base_uri": "https://localhost:8080/"
        },
        "id": "TaXwB6f1IxQR",
        "outputId": "23cb6766-dec5-4393-bac9-26d4876cafae"
      },
      "execution_count": null,
      "outputs": [
        {
          "output_type": "stream",
          "name": "stdout",
          "text": [
            "a[:4] [1, 2, 3, 4]\n",
            "a[1:4] [2, 3, 4]\n",
            "a[0:7:2] [1, 3, 5, 7]\n",
            "a[::-1] [10, 9, 8, 7, 6, 5, 4, 3, 2, 1]\n",
            "a[::2] [1, 3, 5, 7, 9]\n"
          ]
        }
      ]
    },
    {
      "cell_type": "code",
      "source": [
        "a=['alice', 'bob', 'cat']\n",
        "b=['apple', 'banana', 'cherry']\n",
        "\n",
        "print(a+b)"
      ],
      "metadata": {
        "colab": {
          "base_uri": "https://localhost:8080/"
        },
        "id": "5s7HHAoUJavn",
        "outputId": "3dca62d8-f860-4c8b-90d0-db81e16f940e"
      },
      "execution_count": null,
      "outputs": [
        {
          "output_type": "stream",
          "name": "stdout",
          "text": [
            "['alice', 'bob', 'cat', 'apple', 'banana', 'cherry']\n"
          ]
        }
      ]
    },
    {
      "cell_type": "code",
      "source": [
        "a=['a', 'b', 'c']\n",
        "b = a*3\n",
        "c = a*0\n",
        "\n",
        "print('a*3=', b)\n",
        "print('a*0=', c)"
      ],
      "metadata": {
        "colab": {
          "base_uri": "https://localhost:8080/"
        },
        "id": "BxvvytZVJzJe",
        "outputId": "100e862d-69ee-4a9b-dcf0-e65a28f3b080"
      },
      "execution_count": null,
      "outputs": [
        {
          "output_type": "stream",
          "name": "stdout",
          "text": [
            "a*3= ['a', 'b', 'c', 'a', 'b', 'c', 'a', 'b', 'c']\n",
            "a*0= []\n"
          ]
        }
      ]
    },
    {
      "cell_type": "code",
      "source": [
        "a = [0, 1, 2]\n",
        "a[1] = 'a'\n",
        "\n",
        "print(a)"
      ],
      "metadata": {
        "colab": {
          "base_uri": "https://localhost:8080/"
        },
        "id": "Ojz4xWpwJ_Sr",
        "outputId": "f8c7aafd-b855-453c-8e1c-bbe45ddba3bf"
      },
      "execution_count": null,
      "outputs": [
        {
          "output_type": "stream",
          "name": "stdout",
          "text": [
            "[0, 'a', 2]\n"
          ]
        }
      ]
    },
    {
      "cell_type": "code",
      "source": [
        "a = [100, 200, 300]\n",
        "a.append(400)\n",
        "\n",
        "print(a)\n",
        "\n",
        "a.append([500, 600])\n",
        "\n",
        "print(a)"
      ],
      "metadata": {
        "colab": {
          "base_uri": "https://localhost:8080/"
        },
        "id": "chayPD9AKJZU",
        "outputId": "7606b82f-dfcd-4749-ef98-98ca1b59c335"
      },
      "execution_count": null,
      "outputs": [
        {
          "output_type": "stream",
          "name": "stdout",
          "text": [
            "[100, 200, 300, 400]\n",
            "[100, 200, 300, 400, [500, 600]]\n"
          ]
        }
      ]
    },
    {
      "cell_type": "code",
      "source": [
        "a = [1, 2, 3]\n",
        "a.extend([50, 400])\n",
        "\n",
        "print('a.extend([50, 400] result')\n",
        "print(a)"
      ],
      "metadata": {
        "colab": {
          "base_uri": "https://localhost:8080/"
        },
        "id": "ppOm8rr0KXUv",
        "outputId": "8cd31b15-333b-48c3-f1d2-9a19f950de65"
      },
      "execution_count": null,
      "outputs": [
        {
          "output_type": "stream",
          "name": "stdout",
          "text": [
            "a.extend([50, 400] result\n",
            "[1, 2, 3, 50, 400]\n"
          ]
        }
      ]
    },
    {
      "cell_type": "code",
      "source": [
        "a = [0, 1, 2]\n",
        "a.insert(1, 100)\n",
        "\n",
        "print(a)"
      ],
      "metadata": {
        "colab": {
          "base_uri": "https://localhost:8080/"
        },
        "id": "Jb_x9MnwKqpw",
        "outputId": "fbc1d6fe-8480-4834-db1c-098e66168f36"
      },
      "execution_count": null,
      "outputs": [
        {
          "output_type": "stream",
          "name": "stdout",
          "text": [
            "[0, 100, 1, 2]\n"
          ]
        }
      ]
    },
    {
      "cell_type": "code",
      "source": [
        "a = [0, 1, 2, 3]\n",
        "a[2:2] = [100, 200]\n",
        "print(a)\n",
        "\n",
        "b = [0, 1, 2, 3]\n",
        "b[1:2] = [100, 200, 300, 400]\n",
        "print(b)\n",
        "\n",
        "c = [0, 1, 2, 3]\n",
        "c[1:5] = [100]\n",
        "print(c)"
      ],
      "metadata": {
        "colab": {
          "base_uri": "https://localhost:8080/"
        },
        "id": "Fr2yN8J9K0Vh",
        "outputId": "b28ed150-8066-48df-e810-a62d73ba2b53"
      },
      "execution_count": null,
      "outputs": [
        {
          "output_type": "stream",
          "name": "stdout",
          "text": [
            "[0, 1, 100, 200, 2, 3]\n",
            "[0, 100, 200, 300, 400, 2, 3]\n",
            "[0, 100]\n"
          ]
        }
      ]
    },
    {
      "cell_type": "code",
      "source": [
        "a = [1, 2, 1, 2]\n",
        "a.remove(1)\n",
        "\n",
        "print(a)"
      ],
      "metadata": {
        "colab": {
          "base_uri": "https://localhost:8080/"
        },
        "id": "yKt1pYcCLYaV",
        "outputId": "85f97865-13a9-47a0-80a6-48054c6d1d79"
      },
      "execution_count": null,
      "outputs": [
        {
          "output_type": "stream",
          "name": "stdout",
          "text": [
            "[2, 1, 2]\n"
          ]
        }
      ]
    },
    {
      "cell_type": "code",
      "source": [
        "a = [0, 1, 2, 3, 4, 5, 6, 7, 8, 9]\n",
        "\n",
        "del a[1]\n",
        "print(a)"
      ],
      "metadata": {
        "colab": {
          "base_uri": "https://localhost:8080/"
        },
        "id": "pdIamN44Lug5",
        "outputId": "53901bb9-d8ed-4b63-a750-2c81a6f383f4"
      },
      "execution_count": null,
      "outputs": [
        {
          "output_type": "stream",
          "name": "stdout",
          "text": [
            "[0, 2, 3, 4, 5, 6, 7, 8, 9]\n"
          ]
        }
      ]
    },
    {
      "cell_type": "code",
      "source": [
        "b = [0, 1, 2, 3, 4, 5, 6, 7, 8, 9]\n",
        "del b[1:3]\n",
        "\n",
        "print(b)"
      ],
      "metadata": {
        "colab": {
          "base_uri": "https://localhost:8080/"
        },
        "id": "KJuoMYZBL77t",
        "outputId": "480888b7-02fc-4769-880a-af55ef57e3bf"
      },
      "execution_count": null,
      "outputs": [
        {
          "output_type": "stream",
          "name": "stdout",
          "text": [
            "[0, 3, 4, 5, 6, 7, 8, 9]\n"
          ]
        }
      ]
    },
    {
      "cell_type": "code",
      "source": [
        "a = [0,1,2,3,4]\n",
        "r = a.pop(1)\n",
        "\n",
        "print(a)\n",
        "print(r)\n",
        "\n",
        "j = a.pop()\n",
        "print(a)\n",
        "print(j)\n"
      ],
      "metadata": {
        "colab": {
          "base_uri": "https://localhost:8080/"
        },
        "id": "25h2jkmIMBrz",
        "outputId": "a0c7a5c5-aa02-4b4e-85d7-7326286f4e4d"
      },
      "execution_count": null,
      "outputs": [
        {
          "output_type": "stream",
          "name": "stdout",
          "text": [
            "[0, 2, 3, 4]\n",
            "1\n",
            "[0, 2, 3]\n",
            "4\n"
          ]
        }
      ]
    },
    {
      "cell_type": "code",
      "source": [
        "a = [0, 1, 2, 3]\n",
        "print(a)\n",
        "\n",
        "a.clear()\n",
        "print(a)"
      ],
      "metadata": {
        "colab": {
          "base_uri": "https://localhost:8080/"
        },
        "id": "ohHOewKHMaYX",
        "outputId": "6719b857-c663-4240-9e44-f6a618745d14"
      },
      "execution_count": null,
      "outputs": [
        {
          "output_type": "stream",
          "name": "stdout",
          "text": [
            "[0, 1, 2, 3]\n",
            "[]\n"
          ]
        }
      ]
    },
    {
      "cell_type": "code",
      "source": [
        "a = ['Gold', 'Gold', 'Silver', 'Silver']\n",
        "print(a.index('Silver'))"
      ],
      "metadata": {
        "colab": {
          "base_uri": "https://localhost:8080/"
        },
        "id": "kTAwg9hxMuhX",
        "outputId": "3b234f92-03c1-41e4-eba5-67ba28c4eae0"
      },
      "execution_count": null,
      "outputs": [
        {
          "output_type": "stream",
          "name": "stdout",
          "text": [
            "2\n"
          ]
        }
      ]
    },
    {
      "cell_type": "code",
      "source": [
        "a = [1, 4, 5, 2, 3]\n",
        "b = [1, 4, 5, 2, 3]\n",
        "\n",
        "a.sort()\n",
        "print(\"sort():\", a)\n",
        "\n",
        "b.sort(reverse=True)\n",
        "print('b.sort(reverse=True):', b)"
      ],
      "metadata": {
        "colab": {
          "base_uri": "https://localhost:8080/"
        },
        "id": "HQzARLTUM6R0",
        "outputId": "935b74cd-9728-4713-deea-8cf613bec526"
      },
      "execution_count": null,
      "outputs": [
        {
          "output_type": "stream",
          "name": "stdout",
          "text": [
            "sort(): [1, 2, 3, 4, 5]\n",
            "b.sort(reverse=True): [5, 4, 3, 2, 1]\n"
          ]
        }
      ]
    },
    {
      "cell_type": "markdown",
      "source": [
        "* 타입이 섞여 있을 시 정렬되지 않음\n",
        "* 역순 정렬 : reverse(), 최솟값 : min(), 최댓값 : max(), 길이 : len()"
      ],
      "metadata": {
        "id": "jwzrZ8AYNTKf"
      }
    }
  ]
}
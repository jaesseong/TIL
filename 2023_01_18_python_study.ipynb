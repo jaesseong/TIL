{
  "nbformat": 4,
  "nbformat_minor": 0,
  "metadata": {
    "colab": {
      "provenance": [],
      "authorship_tag": "ABX9TyM/15NAhkjIBGFGNA4Irynk"
    },
    "kernelspec": {
      "name": "python3",
      "display_name": "Python 3"
    },
    "language_info": {
      "name": "python"
    }
  },
  "cells": [
    {
      "cell_type": "markdown",
      "source": [
        "# Tuple"
      ],
      "metadata": {
        "id": "H3Z1NspmFKlw"
      }
    },
    {
      "cell_type": "markdown",
      "source": [
        "튜플은 괄호()를 사용해도 되고 하지 않아도 된다. 하지만 괄호() 안에 콤마(,)를 사용하지 않으면 튜플로 인식되지 않는다.\n",
        "\n",
        "또한, tuple 선언 시 변경이 불가능하고 그 외의 부분은 리스트와 동일하다."
      ],
      "metadata": {
        "id": "C9pxNaz1FOic"
      }
    },
    {
      "cell_type": "code",
      "source": [
        "tuple1 = (1)\n",
        "tuple2 = (1,)\n",
        "tuple3 = 1, 2, 3"
      ],
      "metadata": {
        "id": "l9dTaoAEFo-H"
      },
      "execution_count": 1,
      "outputs": []
    },
    {
      "cell_type": "code",
      "source": [
        "print(tuple1)\n",
        "print(tuple2)\n",
        "print(tuple3)\n",
        "\n",
        "print(type(tuple1))\n",
        "print(type(tuple2))\n",
        "print(type(tuple3))"
      ],
      "metadata": {
        "colab": {
          "base_uri": "https://localhost:8080/"
        },
        "id": "Rud7RJgkFxnB",
        "outputId": "5690374d-f5f5-457c-a800-2bc0120e3439"
      },
      "execution_count": 2,
      "outputs": [
        {
          "output_type": "stream",
          "name": "stdout",
          "text": [
            "1\n",
            "(1,)\n",
            "(1, 2, 3)\n",
            "<class 'int'>\n",
            "<class 'tuple'>\n",
            "<class 'tuple'>\n"
          ]
        }
      ]
    },
    {
      "cell_type": "markdown",
      "source": [
        "> 그렇다면, 튜플은 왜 필요할까?\n",
        "\n",
        "\n",
        "튜플은 불변이고 리스트는 가변이기 때문에, 메모리 효율성이 높다.\n",
        "\n",
        "참고 사이트 -> https://fierycoding.tistory.com/59"
      ],
      "metadata": {
        "id": "9ZNZUKxOGDrv"
      }
    },
    {
      "cell_type": "markdown",
      "source": [
        "# Dictionary\n"
      ],
      "metadata": {
        "id": "KEJST2ZqGYsS"
      }
    },
    {
      "cell_type": "markdown",
      "source": [
        "키(key)와 값(value)으로 나뉘고 순서가 존재하지 않는 자료형 (key로 검색 가능)"
      ],
      "metadata": {
        "id": "jMZln0BeH-tK"
      }
    },
    {
      "cell_type": "code",
      "source": [
        "dic = {'teacher' : 'alice', 'class' : 5, 'student_id' : '15', 'list' : [1, 2, 3]}\n",
        "\n",
        "print(dic['teacher'])\n",
        "print(dic['class'])\n",
        "print(dic['list'])"
      ],
      "metadata": {
        "colab": {
          "base_uri": "https://localhost:8080/"
        },
        "id": "nU4-QNfjILb1",
        "outputId": "32a93d68-9195-4406-e641-c503aec75136"
      },
      "execution_count": 12,
      "outputs": [
        {
          "output_type": "stream",
          "name": "stdout",
          "text": [
            "alice\n",
            "5\n",
            "[1, 2, 3]\n"
          ]
        }
      ]
    },
    {
      "cell_type": "code",
      "source": [
        "print(dic.keys())\n",
        "print(dic.values())\n",
        "print(dic.items())"
      ],
      "metadata": {
        "colab": {
          "base_uri": "https://localhost:8080/"
        },
        "id": "GVZYbSP-IhUB",
        "outputId": "c0780e0f-7402-4fa6-a583-5b88ec686374"
      },
      "execution_count": 20,
      "outputs": [
        {
          "output_type": "stream",
          "name": "stdout",
          "text": [
            "dict_keys(['teacher', 'class', 'student_id', 'list'])\n",
            "dict_values(['alice', 5, '15', [1, 2, 3]])\n",
            "dict_items([('teacher', 'alice'), ('class', 5), ('student_id', '15'), ('list', [1, 2, 3])])\n"
          ]
        }
      ]
    },
    {
      "cell_type": "code",
      "source": [
        "print(dic.get('teacher'))\n",
        "print(dic.get('age')) # dic에 없는 key => None으로 반환\n",
        "print(dic.get('age', 'empty')) #dic에 없는 key를 default 값으로 반환"
      ],
      "metadata": {
        "colab": {
          "base_uri": "https://localhost:8080/"
        },
        "id": "iZUggJv8IqkI",
        "outputId": "23f7dcb1-fb35-4598-8cde-f0c93e45e3e4"
      },
      "execution_count": 23,
      "outputs": [
        {
          "output_type": "stream",
          "name": "stdout",
          "text": [
            "alice\n",
            "None\n",
            "empty\n"
          ]
        }
      ]
    },
    {
      "cell_type": "markdown",
      "source": [
        "# Set"
      ],
      "metadata": {
        "id": "t3raIe7HJJpy"
      }
    },
    {
      "cell_type": "markdown",
      "source": [
        "순서가 없고 중복을 허용하지 않고 set 생성자를 사용하여야 함"
      ],
      "metadata": {
        "id": "TyxvnIw8Jt27"
      }
    },
    {
      "cell_type": "code",
      "source": [
        "s = set()\n",
        "s = {1, 2, 3}\n",
        "\n",
        "print(type(s))"
      ],
      "metadata": {
        "colab": {
          "base_uri": "https://localhost:8080/"
        },
        "id": "0mD39eJpJ8zl",
        "outputId": "1e4da206-69f1-48aa-a314-b65a605a7454"
      },
      "execution_count": 25,
      "outputs": [
        {
          "output_type": "stream",
          "name": "stdout",
          "text": [
            "<class 'set'>\n"
          ]
        }
      ]
    },
    {
      "cell_type": "code",
      "source": [
        "a = {1, 3, 5}\n",
        "b = {2, 4, 6}\n",
        "\n",
        "c = a|b\n",
        "d = a.union(b)\n",
        "\n",
        "print(c)\n",
        "print(d)"
      ],
      "metadata": {
        "colab": {
          "base_uri": "https://localhost:8080/"
        },
        "id": "on3yzH3_KGu5",
        "outputId": "b8448731-8055-4bab-ad5b-fbbc52300780"
      },
      "execution_count": 26,
      "outputs": [
        {
          "output_type": "stream",
          "name": "stdout",
          "text": [
            "{1, 2, 3, 4, 5, 6}\n",
            "{1, 2, 3, 4, 5, 6}\n"
          ]
        }
      ]
    },
    {
      "cell_type": "code",
      "source": [
        "c = a&b\n",
        "print(c)\n",
        "\n",
        "e = {1, 2, 5}\n",
        "f = {2, 4 ,5}\n",
        "print(e&f)\n",
        "\n",
        "g2 = e.intersection(f)\n",
        "print('intersection : ', g2)"
      ],
      "metadata": {
        "colab": {
          "base_uri": "https://localhost:8080/"
        },
        "id": "HbfabKKaKZnJ",
        "outputId": "b493a50d-154b-4fb4-daa3-8d1a567a3a4e"
      },
      "execution_count": 28,
      "outputs": [
        {
          "output_type": "stream",
          "name": "stdout",
          "text": [
            "set()\n",
            "{2, 5}\n",
            "intersection :  {2, 5}\n"
          ]
        }
      ]
    },
    {
      "cell_type": "code",
      "source": [
        "c1 = e - f\n",
        "c2 = e.difference(f)\n",
        "\n",
        "print('e - f : ', c1)\n",
        "print('e.difference(f) : ', c2)"
      ],
      "metadata": {
        "colab": {
          "base_uri": "https://localhost:8080/"
        },
        "id": "BEdl47E7Krp2",
        "outputId": "5efe3c41-77c1-4f5c-e357-68dbffefd343"
      },
      "execution_count": 30,
      "outputs": [
        {
          "output_type": "stream",
          "name": "stdout",
          "text": [
            "e - f :  {1}\n",
            "e.difference(f) :  {1}\n"
          ]
        }
      ]
    },
    {
      "cell_type": "code",
      "source": [
        "d1 = e^f\n",
        "d2 = e.symmetric_difference(f)\n",
        "\n",
        "print('e^f : ', d1)\n",
        "print('e.symmetric_difference(f) : ', d2)"
      ],
      "metadata": {
        "colab": {
          "base_uri": "https://localhost:8080/"
        },
        "id": "x9BOCouZMus9",
        "outputId": "3f927d90-5da2-44c4-cbac-f696255b2e05"
      },
      "execution_count": 31,
      "outputs": [
        {
          "output_type": "stream",
          "name": "stdout",
          "text": [
            "e^f :  {1, 4}\n",
            "e.symmetric_difference(f) :  {1, 4}\n"
          ]
        }
      ]
    },
    {
      "cell_type": "markdown",
      "source": [
        "# 조건문"
      ],
      "metadata": {
        "id": "TVPGdNhyNEQ4"
      }
    },
    {
      "cell_type": "code",
      "source": [
        "a = -5\n",
        "\n",
        "if a > 5:\n",
        "  print('a is bigger than 5')\n",
        "elif a > 0:\n",
        "  print('a is bigger than 0 but a is smaller than 5')\n",
        "else :\n",
        "  print('a is negative')"
      ],
      "metadata": {
        "colab": {
          "base_uri": "https://localhost:8080/"
        },
        "id": "8bGfkRxtNKVq",
        "outputId": "ff7562d8-7de8-4c57-bebb-7824601284d1"
      },
      "execution_count": 32,
      "outputs": [
        {
          "output_type": "stream",
          "name": "stdout",
          "text": [
            "a is negative\n"
          ]
        }
      ]
    },
    {
      "cell_type": "markdown",
      "source": [
        "# 반복문"
      ],
      "metadata": {
        "id": "Yc3wqlSaNogN"
      }
    },
    {
      "cell_type": "code",
      "source": [
        "for dan in range(2, 4):\n",
        "  for val in range(1, 10):\n",
        "    print(dan, ' * ', val, ' = ', dan*val)"
      ],
      "metadata": {
        "colab": {
          "base_uri": "https://localhost:8080/"
        },
        "id": "nLeZvAJRNzsO",
        "outputId": "db19cda8-b450-4a72-8013-0dd2f297c34b"
      },
      "execution_count": 33,
      "outputs": [
        {
          "output_type": "stream",
          "name": "stdout",
          "text": [
            "2  *  1  =  2\n",
            "2  *  2  =  4\n",
            "2  *  3  =  6\n",
            "2  *  4  =  8\n",
            "2  *  5  =  10\n",
            "2  *  6  =  12\n",
            "2  *  7  =  14\n",
            "2  *  8  =  16\n",
            "2  *  9  =  18\n",
            "3  *  1  =  3\n",
            "3  *  2  =  6\n",
            "3  *  3  =  9\n",
            "3  *  4  =  12\n",
            "3  *  5  =  15\n",
            "3  *  6  =  18\n",
            "3  *  7  =  21\n",
            "3  *  8  =  24\n",
            "3  *  9  =  27\n"
          ]
        }
      ]
    },
    {
      "cell_type": "code",
      "source": [
        "a = 'Kaggle'\n",
        "for x in a:\n",
        "  print(x)\n",
        "  if x == 'g':\n",
        "    break"
      ],
      "metadata": {
        "colab": {
          "base_uri": "https://localhost:8080/"
        },
        "id": "ZWmuP9SGPiNr",
        "outputId": "37be269f-5946-467d-cd29-50513bb67358"
      },
      "execution_count": 34,
      "outputs": [
        {
          "output_type": "stream",
          "name": "stdout",
          "text": [
            "K\n",
            "a\n",
            "g\n"
          ]
        }
      ]
    },
    {
      "cell_type": "code",
      "source": [
        "# enumerate \n",
        "# index를 같이 표시하는 함수\n",
        "\n",
        "alphabets = ['A', 'B', 'C']\n",
        "for index, value in enumerate(alphabets):\n",
        "  print(index, value)\n"
      ],
      "metadata": {
        "colab": {
          "base_uri": "https://localhost:8080/"
        },
        "id": "1Bm6a4s6PtC6",
        "outputId": "e6457dd5-ede3-4f2f-af1c-7c10dc5d0eea"
      },
      "execution_count": 35,
      "outputs": [
        {
          "output_type": "stream",
          "name": "stdout",
          "text": [
            "0 A\n",
            "1 B\n",
            "2 C\n"
          ]
        }
      ]
    }
  ]
}
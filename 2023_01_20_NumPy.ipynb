{
  "nbformat": 4,
  "nbformat_minor": 0,
  "metadata": {
    "colab": {
      "provenance": [],
      "authorship_tag": "ABX9TyO5wb16Mm/akcoEmFqE1lJR"
    },
    "kernelspec": {
      "name": "python3",
      "display_name": "Python 3"
    },
    "language_info": {
      "name": "python"
    }
  },
  "cells": [
    {
      "cell_type": "markdown",
      "source": [
        "#NumPy"
      ],
      "metadata": {
        "id": "sFwMkGirf3eE"
      }
    },
    {
      "cell_type": "markdown",
      "source": [
        "고성능 수치 계산(배열)을 위한 파이썬 라이브러리"
      ],
      "metadata": {
        "id": "KCFI85fqf-CM"
      }
    },
    {
      "cell_type": "code",
      "source": [
        "import numpy as np\n",
        "print(np.__version__)"
      ],
      "metadata": {
        "colab": {
          "base_uri": "https://localhost:8080/"
        },
        "id": "QzOvbdyogb4U",
        "outputId": "2c4d0007-c526-43c8-f6f3-478099a5a388"
      },
      "execution_count": 2,
      "outputs": [
        {
          "output_type": "stream",
          "name": "stdout",
          "text": [
            "1.21.6\n"
          ]
        }
      ]
    },
    {
      "cell_type": "code",
      "source": [
        "temp = np.array([1, 2, 3])\n",
        "print(type(temp))"
      ],
      "metadata": {
        "colab": {
          "base_uri": "https://localhost:8080/"
        },
        "id": "Yt0Z3ITnggad",
        "outputId": "86de21cd-6472-4870-a57e-499080e99b65"
      },
      "execution_count": 3,
      "outputs": [
        {
          "output_type": "stream",
          "name": "stdout",
          "text": [
            "<class 'numpy.ndarray'>\n"
          ]
        }
      ]
    },
    {
      "cell_type": "markdown",
      "source": [
        "> 추가적인 공부 : Quick Tutorial : https://numpy.org/doc/stable/user/quickstart.html"
      ],
      "metadata": {
        "id": "1W1XBo4Wgqzc"
      }
    },
    {
      "cell_type": "code",
      "source": [
        "data1 = [1, 2, 3]\n",
        "data1"
      ],
      "metadata": {
        "colab": {
          "base_uri": "https://localhost:8080/"
        },
        "id": "PgLfWZpkg60F",
        "outputId": "a07fb9a5-120f-4007-d227-7a257f353b45"
      },
      "execution_count": 4,
      "outputs": [
        {
          "output_type": "execute_result",
          "data": {
            "text/plain": [
              "[1, 2, 3]"
            ]
          },
          "metadata": {},
          "execution_count": 4
        }
      ]
    },
    {
      "cell_type": "code",
      "source": [
        "data2 = [1, 1, 2, 2, 3, 4]\n",
        "data2"
      ],
      "metadata": {
        "colab": {
          "base_uri": "https://localhost:8080/"
        },
        "id": "bxVKKCa3g_p4",
        "outputId": "c7301efa-968e-43e9-f4ee-578fe1b77d8c"
      },
      "execution_count": 5,
      "outputs": [
        {
          "output_type": "execute_result",
          "data": {
            "text/plain": [
              "[1, 1, 2, 2, 3, 4]"
            ]
          },
          "metadata": {},
          "execution_count": 5
        }
      ]
    },
    {
      "cell_type": "code",
      "source": [
        "my_array1 = np.array(data1)\n",
        "print(my_array1)\n",
        "print(my_array1.shape)"
      ],
      "metadata": {
        "colab": {
          "base_uri": "https://localhost:8080/"
        },
        "id": "8Hd_FctphEMJ",
        "outputId": "90090c1f-c015-4e35-810a-9721b1171e0b"
      },
      "execution_count": 6,
      "outputs": [
        {
          "output_type": "stream",
          "name": "stdout",
          "text": [
            "[1 2 3]\n",
            "(3,)\n"
          ]
        }
      ]
    },
    {
      "cell_type": "code",
      "source": [
        "my_array2 = np.array(data2)\n",
        "print(my_array2)\n",
        "print(my_array2.shape)"
      ],
      "metadata": {
        "colab": {
          "base_uri": "https://localhost:8080/"
        },
        "id": "Lw7eQg-WhLup",
        "outputId": "6ab32ba0-2e36-4348-eb4b-c0d84953490f"
      },
      "execution_count": 8,
      "outputs": [
        {
          "output_type": "stream",
          "name": "stdout",
          "text": [
            "[1 1 2 2 3 4]\n",
            "(6,)\n"
          ]
        }
      ]
    },
    {
      "cell_type": "code",
      "source": [
        "my_array3 = np.array([3, 6, 9, 12])\n",
        "print(my_array3.dtype)"
      ],
      "metadata": {
        "colab": {
          "base_uri": "https://localhost:8080/"
        },
        "id": "0DzCIx0chWAL",
        "outputId": "2dc2614b-ddef-47ac-97fd-aeba5b46a68f"
      },
      "execution_count": 9,
      "outputs": [
        {
          "output_type": "stream",
          "name": "stdout",
          "text": [
            "int64\n"
          ]
        }
      ]
    },
    {
      "cell_type": "markdown",
      "source": [
        "- NumPy는 자료형이 다르면 오류가 발생할 수 있으므로 항상 데이터 타입을 확인하는 습관을 들이자\n",
        "- Data types 더보기 : https://numpy.org/devdocs/user/basics.types.html"
      ],
      "metadata": {
        "id": "AwRDjq48hhIN"
      }
    },
    {
      "cell_type": "code",
      "source": [
        "my_array4 = np.array([[2, 4, 6], [8, 10, 12], [14, 16, 18], [20, 22, 24]])\n",
        "my_array4"
      ],
      "metadata": {
        "colab": {
          "base_uri": "https://localhost:8080/"
        },
        "id": "NA6gOPQ5h2Xt",
        "outputId": "d812acce-9a87-419d-a7ad-1845e26b8d9b"
      },
      "execution_count": 10,
      "outputs": [
        {
          "output_type": "execute_result",
          "data": {
            "text/plain": [
              "array([[ 2,  4,  6],\n",
              "       [ 8, 10, 12],\n",
              "       [14, 16, 18],\n",
              "       [20, 22, 24]])"
            ]
          },
          "metadata": {},
          "execution_count": 10
        }
      ]
    },
    {
      "cell_type": "code",
      "source": [
        "my_array4.shape"
      ],
      "metadata": {
        "colab": {
          "base_uri": "https://localhost:8080/"
        },
        "id": "nTCLADA-nxhz",
        "outputId": "00d7f80c-d4f1-4049-bad3-eef1169237c7"
      },
      "execution_count": 11,
      "outputs": [
        {
          "output_type": "execute_result",
          "data": {
            "text/plain": [
              "(4, 3)"
            ]
          },
          "metadata": {},
          "execution_count": 11
        }
      ]
    },
    {
      "cell_type": "code",
      "source": [
        "my_array5 = np.array([[[1, 2], [3, 4]], [[5, 6], [7, 8]]])\n",
        "my_array5.shape"
      ],
      "metadata": {
        "colab": {
          "base_uri": "https://localhost:8080/"
        },
        "id": "9z2HmE_Jn1fS",
        "outputId": "80494701-c6d7-4b7b-f331-d07b6d1efe80"
      },
      "execution_count": 12,
      "outputs": [
        {
          "output_type": "execute_result",
          "data": {
            "text/plain": [
              "(2, 2, 2)"
            ]
          },
          "metadata": {},
          "execution_count": 12
        }
      ]
    },
    {
      "cell_type": "code",
      "source": [
        "arange_array = np.arange(5)\n",
        "arange_array"
      ],
      "metadata": {
        "colab": {
          "base_uri": "https://localhost:8080/"
        },
        "id": "DsojIlOJoOnR",
        "outputId": "2b1da214-acd0-4455-f186-1446539f38e2"
      },
      "execution_count": 13,
      "outputs": [
        {
          "output_type": "execute_result",
          "data": {
            "text/plain": [
              "array([0, 1, 2, 3, 4])"
            ]
          },
          "metadata": {},
          "execution_count": 13
        }
      ]
    },
    {
      "cell_type": "code",
      "source": [
        "arange_array2 = np.arange(1, 9, 3)\n",
        "arange_array2"
      ],
      "metadata": {
        "colab": {
          "base_uri": "https://localhost:8080/"
        },
        "id": "ukjHKx9fob1t",
        "outputId": "ef1496a8-23dd-48ca-f084-e573f9877008"
      },
      "execution_count": 15,
      "outputs": [
        {
          "output_type": "execute_result",
          "data": {
            "text/plain": [
              "array([1, 4, 7])"
            ]
          },
          "metadata": {},
          "execution_count": 15
        }
      ]
    },
    {
      "cell_type": "code",
      "source": [
        "zeros_array = np.zeros((3, 2))\n",
        "print(zeros_array)\n",
        "print(\"Data type is : \", zeros_array.dtype)\n",
        "print(\"Data Shape is : \", zeros_array.shape)"
      ],
      "metadata": {
        "colab": {
          "base_uri": "https://localhost:8080/"
        },
        "id": "gMgcWpDbol4y",
        "outputId": "e409cfd1-54a9-47ff-9283-1658d31c72ff"
      },
      "execution_count": 16,
      "outputs": [
        {
          "output_type": "stream",
          "name": "stdout",
          "text": [
            "[[0. 0.]\n",
            " [0. 0.]\n",
            " [0. 0.]]\n",
            "Data type is :  float64\n",
            "Data Shape is :  (3, 2)\n"
          ]
        }
      ]
    },
    {
      "cell_type": "code",
      "source": [
        "ones_array = np.ones((3, 4), dtype = 'int32')\n",
        "print(ones_array)\n",
        "print(\"Data type is : \", ones_array.dtype)\n",
        "print(\"Data Shape is : \", ones_array.shape)"
      ],
      "metadata": {
        "colab": {
          "base_uri": "https://localhost:8080/"
        },
        "id": "wtAlZZIWpHi0",
        "outputId": "c3815c65-7f31-4f8a-c0bd-694922f3443d"
      },
      "execution_count": 17,
      "outputs": [
        {
          "output_type": "stream",
          "name": "stdout",
          "text": [
            "[[1 1 1 1]\n",
            " [1 1 1 1]\n",
            " [1 1 1 1]]\n",
            "Data type is :  int32\n",
            "Data Shape is :  (3, 4)\n"
          ]
        }
      ]
    },
    {
      "cell_type": "code",
      "source": [
        "after_reshape = ones_array.reshape(6, 2)\n",
        "print(after_reshape)\n",
        "print(\"Data Shape is : \", after_reshape.shape)"
      ],
      "metadata": {
        "colab": {
          "base_uri": "https://localhost:8080/"
        },
        "id": "3le-TFNFpgC1",
        "outputId": "b196ef67-f3d8-43de-8b42-d15559b80f45"
      },
      "execution_count": 18,
      "outputs": [
        {
          "output_type": "stream",
          "name": "stdout",
          "text": [
            "[[1 1]\n",
            " [1 1]\n",
            " [1 1]\n",
            " [1 1]\n",
            " [1 1]\n",
            " [1 1]]\n",
            "Data Shape is :  (6, 2)\n"
          ]
        }
      ]
    },
    {
      "cell_type": "code",
      "source": [
        "after_reshape2 = ones_array.reshape(2, 3, 2)\n",
        "print(after_reshape2)\n",
        "print(\"Data Shape is : \", after_reshape2.shape)"
      ],
      "metadata": {
        "colab": {
          "base_uri": "https://localhost:8080/"
        },
        "id": "iHiUF2BBpwkN",
        "outputId": "4e2f2929-64fa-470f-fa4c-507e8faa6253"
      },
      "execution_count": 20,
      "outputs": [
        {
          "output_type": "stream",
          "name": "stdout",
          "text": [
            "[[[1 1]\n",
            "  [1 1]\n",
            "  [1 1]]\n",
            "\n",
            " [[1 1]\n",
            "  [1 1]\n",
            "  [1 1]]]\n",
            "Data Shape is :  (2, 3, 2)\n"
          ]
        }
      ]
    },
    {
      "cell_type": "code",
      "source": [
        "after_reshape3 = ones_array.reshape(-1, 6)\n",
        "print('reshape(-1, 6)?\\n')\n",
        "print(after_reshape3)"
      ],
      "metadata": {
        "colab": {
          "base_uri": "https://localhost:8080/"
        },
        "id": "EmYMM7r_qPGx",
        "outputId": "2ba24d08-c581-45c1-f9d2-2bb773bed88d"
      },
      "execution_count": 21,
      "outputs": [
        {
          "output_type": "stream",
          "name": "stdout",
          "text": [
            "reshape(-1, 6)?\n",
            "\n",
            "[[1 1 1 1 1 1]\n",
            " [1 1 1 1 1 1]]\n"
          ]
        }
      ]
    },
    {
      "cell_type": "code",
      "source": [
        " after_reshape4 = ones_array.reshape(4, -1)\n",
        " print('reshape(4, -1)?\\n')\n",
        " print(after_reshape4)"
      ],
      "metadata": {
        "colab": {
          "base_uri": "https://localhost:8080/"
        },
        "id": "BApIUkazqk5U",
        "outputId": "4f14bdd1-c94a-4c81-a858-94c9f2738f96"
      },
      "execution_count": 22,
      "outputs": [
        {
          "output_type": "stream",
          "name": "stdout",
          "text": [
            "reshape(4, -1)?\n",
            "\n",
            "[[1 1 1]\n",
            " [1 1 1]\n",
            " [1 1 1]\n",
            " [1 1 1]]\n"
          ]
        }
      ]
    },
    {
      "cell_type": "code",
      "source": [],
      "metadata": {
        "id": "ovZriVTPrHYq"
      },
      "execution_count": null,
      "outputs": []
    }
  ]
}
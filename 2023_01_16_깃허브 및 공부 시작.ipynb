{
  "nbformat": 4,
  "nbformat_minor": 0,
  "metadata": {
    "colab": {
      "provenance": [],
      "mount_file_id": "1kkQLlBwrmamqlyHp1MwmlSX8AZE9ndjW",
      "authorship_tag": "ABX9TyNhXLJ1uM7F97GK6Eouwdv5"
    },
    "kernelspec": {
      "name": "python3",
      "display_name": "Python 3"
    },
    "language_info": {
      "name": "python"
    }
  },
  "cells": [
    {
      "cell_type": "markdown",
      "source": [
        "# TIL\n",
        "- 간단한 파이썬 문법"
      ],
      "metadata": {
        "id": "IHvVhnJV75sx"
      }
    },
    {
      "cell_type": "code",
      "execution_count": null,
      "metadata": {
        "colab": {
          "base_uri": "https://localhost:8080/"
        },
        "id": "8stJpmpI0auz",
        "outputId": "fb457237-b455-40a9-9875-62e895f6d849"
      },
      "outputs": [
        {
          "output_type": "stream",
          "name": "stdout",
          "text": [
            "Hello, World!\n"
          ]
        }
      ],
      "source": [
        "#한 줄 주석 처리\n",
        "\"\"\"\n",
        "여러 줄 주석 예제 동일한 따옴표(큰따옴표 혹은 작은 따옴표) 세 개와 세 개 사이에는 어떠한 내용, \n",
        "몇 줄이 들어가도라도 모두 주석으로 처리됩니다.\n",
        "\"\"\"\n",
        "\n",
        "print(\"Hello, World!\")"
      ]
    },
    {
      "cell_type": "code",
      "source": [
        "num_int=1\n",
        "print(type(num_int))"
      ],
      "metadata": {
        "colab": {
          "base_uri": "https://localhost:8080/"
        },
        "id": "LlpY-XO-0jzz",
        "outputId": "c22be671-ca79-48b6-cc0d-8c7b779bbad0"
      },
      "execution_count": null,
      "outputs": [
        {
          "output_type": "stream",
          "name": "stdout",
          "text": [
            "<class 'int'>\n"
          ]
        }
      ]
    },
    {
      "cell_type": "code",
      "source": [
        "num_float=0.2\n",
        "print(type(num_float))"
      ],
      "metadata": {
        "colab": {
          "base_uri": "https://localhost:8080/"
        },
        "id": "l5Nj2GR21RZY",
        "outputId": "605c1e7a-4d09-43ce-a873-f4e983fe4a62"
      },
      "execution_count": null,
      "outputs": [
        {
          "output_type": "stream",
          "name": "stdout",
          "text": [
            "<class 'float'>\n"
          ]
        }
      ]
    },
    {
      "cell_type": "code",
      "source": [
        "bool_true = True\n",
        "print(type(bool_true))"
      ],
      "metadata": {
        "colab": {
          "base_uri": "https://localhost:8080/"
        },
        "id": "uKeitsel1XJH",
        "outputId": "33e68fed-db2a-472a-ee5c-c2fed0725107"
      },
      "execution_count": null,
      "outputs": [
        {
          "output_type": "stream",
          "name": "stdout",
          "text": [
            "<class 'bool'>\n"
          ]
        }
      ]
    },
    {
      "cell_type": "code",
      "source": [
        "none_x=None\n",
        "print(type(none_x))"
      ],
      "metadata": {
        "colab": {
          "base_uri": "https://localhost:8080/"
        },
        "id": "kDA8Q_Ve1ez3",
        "outputId": "ac94dc59-71a7-4d9e-f61c-18617778302b"
      },
      "execution_count": null,
      "outputs": [
        {
          "output_type": "stream",
          "name": "stdout",
          "text": [
            "<class 'NoneType'>\n"
          ]
        }
      ]
    },
    {
      "cell_type": "code",
      "source": [
        "a=3\n",
        "b=2\n",
        "print('a+b=', a+b)\n",
        "print('a-b=', a-b)\n",
        "print('a*b=', a*b)\n",
        "print('a/b=', a/b)\n",
        "print('a//b=', a//b)\n",
        "print('a%b=', a%b)\n",
        "print('a**b', a**b)"
      ],
      "metadata": {
        "colab": {
          "base_uri": "https://localhost:8080/"
        },
        "id": "TOGfHxfN3mtr",
        "outputId": "b1c61c81-045a-4fff-c205-9f1e93bfd116"
      },
      "execution_count": null,
      "outputs": [
        {
          "output_type": "stream",
          "name": "stdout",
          "text": [
            "a+b= 5\n",
            "a-b= 1\n",
            "a*b= 6\n",
            "a/b= 1.5\n",
            "a//b= 1\n",
            "a%b= 1\n",
            "a**b 9\n"
          ]
        }
      ]
    },
    {
      "cell_type": "markdown",
      "source": [
        "** 정수형은 정수형으로 반환 **\n",
        "\n",
        "** 실수형은 실수형으로 반환 **\n"
      ],
      "metadata": {
        "id": "WJDEZLFv9ilt"
      }
    },
    {
      "cell_type": "code",
      "source": [
        "c=3.0\n",
        "d=2.0\n",
        "print('c+d=', c+d)\n",
        "print('c-d=', c-d)\n",
        "print('c*d=', c*d)\n",
        "print('c/d=', c/d)\n",
        "print('c//d=', c//d)\n",
        "print('c%d=', c%d)\n",
        "print('c**d=', c**d)"
      ],
      "metadata": {
        "colab": {
          "base_uri": "https://localhost:8080/"
        },
        "id": "f6wJG_ZV4G6u",
        "outputId": "4ab996ab-6bdf-41dd-dbc9-816de69e41ef"
      },
      "execution_count": null,
      "outputs": [
        {
          "output_type": "stream",
          "name": "stdout",
          "text": [
            "c+d= 5.0\n",
            "c-d= 1.0\n",
            "c*d= 6.0\n",
            "c/d= 1.5\n",
            "c//d= 1.0\n",
            "c%d= 1.0\n",
            "c**d= 9.0\n"
          ]
        }
      ]
    },
    {
      "cell_type": "markdown",
      "source": [
        "> 논리형 연산자와 비교형 연산자"
      ],
      "metadata": {
        "id": "QeeDvpE5-G8_"
      }
    },
    {
      "cell_type": "code",
      "source": [
        "print(True and True)\n",
        "print(True and False)\n",
        "print(False and True)\n",
        "print(False and False)"
      ],
      "metadata": {
        "colab": {
          "base_uri": "https://localhost:8080/"
        },
        "id": "dtg-aTj6-eIX",
        "outputId": "47da0f67-1185-4d08-8927-8a3e6d2ed720"
      },
      "execution_count": null,
      "outputs": [
        {
          "output_type": "stream",
          "name": "stdout",
          "text": [
            "True\n",
            "False\n",
            "False\n",
            "False\n"
          ]
        }
      ]
    },
    {
      "cell_type": "code",
      "source": [
        "print(True or True)\n",
        "print(True or False)\n",
        "print(False or True)\n",
        "print(False or False)"
      ],
      "metadata": {
        "colab": {
          "base_uri": "https://localhost:8080/"
        },
        "id": "crvQG9U7-vqK",
        "outputId": "f5a901d5-2f56-41e8-b274-a2054e7f2e50"
      },
      "execution_count": null,
      "outputs": [
        {
          "output_type": "stream",
          "name": "stdout",
          "text": [
            "True\n",
            "True\n",
            "True\n",
            "False\n"
          ]
        }
      ]
    },
    {
      "cell_type": "code",
      "source": [
        "print(4>3)\n",
        "print(4<3)\n",
        "print(4>=3)\n",
        "print(4<=3)\n",
        "print(4>4)\n",
        "print(4>=4)"
      ],
      "metadata": {
        "colab": {
          "base_uri": "https://localhost:8080/"
        },
        "id": "eEyzs3Nb-5Gx",
        "outputId": "edc7cbca-ce08-475f-865a-cfe5ee052c9a"
      },
      "execution_count": null,
      "outputs": [
        {
          "output_type": "stream",
          "name": "stdout",
          "text": [
            "True\n",
            "False\n",
            "True\n",
            "False\n",
            "False\n",
            "True\n"
          ]
        }
      ]
    },
    {
      "cell_type": "code",
      "source": [
        "num1 = int(input(\"첫 번쨰 숫자를 입력하세요.:\"))\n",
        "num2 = int(input(\"두 번쨰 숫자를 입력하세요.:\"))\n",
        "num3 = int(input(\"세 번쨰 숫자를 입력하세요.:\"))\n",
        "num4 = int(input(\"네 번쨰 숫자를 입력하세요.:\"))\n",
        "\n",
        "var1 = num1 >= num2\n",
        "var2 = num3 < num4\n",
        "\n",
        "print(var1 and var2)"
      ],
      "metadata": {
        "colab": {
          "base_uri": "https://localhost:8080/"
        },
        "id": "ngnN7747_Vqo",
        "outputId": "d34a1d64-e110-4f03-fcf0-069a16bdc6e1"
      },
      "execution_count": null,
      "outputs": [
        {
          "output_type": "stream",
          "name": "stdout",
          "text": [
            "첫 번쨰 숫자를 입력하세요.:5\n",
            "두 번쨰 숫자를 입력하세요.:4\n",
            "세 번쨰 숫자를 입력하세요.:3\n",
            "네 번쨰 숫자를 입력하세요.:4\n",
            "True\n"
          ]
        }
      ]
    }
  ]
}